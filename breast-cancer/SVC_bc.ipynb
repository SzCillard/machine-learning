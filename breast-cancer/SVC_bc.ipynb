{
 "cells": [
  {
   "cell_type": "markdown",
   "metadata": {},
   "source": [
    "Forrás:\n",
    "https://www.openml.org/search?type=data&sort=runs&id=13&status=active  \n",
    "https://github.com/datasets/breast-cancer/blob/master/data/breast-cancer.csv"
   ]
  },
  {
   "cell_type": "code",
   "execution_count": null,
   "metadata": {},
   "outputs": [],
   "source": [
    "# Standard könyvtárak\n",
    "import numpy as np\n",
    "\n",
    "# Harmadik féltől származó könyvtárak\n",
    "import matplotlib.pyplot as plt\n",
    "import pandas as pd\n",
    "import seaborn as sns\n",
    "\n",
    "from sklearn.metrics import accuracy_score, classification_report, confusion_matrix\n",
    "from sklearn.model_selection import train_test_split\n",
    "from sklearn.preprocessing import LabelEncoder, MinMaxScaler\n",
    "from sklearn.svm import SVC\n"
   ]
  },
  {
   "cell_type": "code",
   "execution_count": null,
   "metadata": {},
   "outputs": [],
   "source": [
    "\n",
    "# Beolvasás a CSV fájlból pandas DataFrame-be\n",
    "df = pd.read_json('bc.json')\n",
    "\n",
    "# Az első néhány sor megjelenítése, hogy ellenőrizzük a beolvasás sikerességét\n",
    "df.head()"
   ]
  },
  {
   "cell_type": "code",
   "execution_count": null,
   "metadata": {},
   "outputs": [],
   "source": [
    "# Hiányzó értékek meghatározása az adathalmazban\n",
    "missing_values = df.isnull().sum()\n",
    "\n",
    "# Hiányzó értékek számának megjelenítése\n",
    "print(missing_values)\n",
    "\n",
    "# Sorok eldobása, ahol bármilyen hiányzó érték van\n",
    "df_cleaned = df.dropna()\n",
    "\n",
    "# Ellenőrizzük újra a hiányzó értékeket, hogy megbizonyosodjunk azok eltávolításáról\n",
    "missing_values_cleaned = df_cleaned.isnull().sum()\n",
    "\n",
    "# A tisztított adathalmaz első néhány sorának megjelenítése\n",
    "df_cleaned.head(), missing_values_cleaned"
   ]
  },
  {
   "cell_type": "markdown",
   "metadata": {},
   "source": [
    "### Plotok\n",
    "Készítsük el a következő plotokat:\n",
    "- Korrelációs heatmap\n",
    "- Violin plot a 'deg-malig' változó eloszlásának vizualizálása különböző 'class' csoportokban\n",
    "- Count plot az érintett mell ('breast') gyakoriságának ábrázolására"
   ]
  },
  {
   "cell_type": "code",
   "execution_count": null,
   "metadata": {},
   "outputs": [],
   "source": [
    "# Az adatok numerikus változóira koncentrálunk a korrelációs mátrix létrehozásához\n",
    "# Mivel az adathalmaz többnyire kategórikus adatokat tartalmaz, először át kell alakítanunk ezeket numerikussá\n",
    "df_numerical = pd.get_dummies(df_cleaned)\n",
    "\n",
    "# 1. Korrelációs mátrix készítése\n",
    "corr_matrix = df_numerical.corr()\n",
    "\n",
    "# Korrelációs heatmap rajzolása\n",
    "plt.figure(figsize=(10, 8))\n",
    "sns.heatmap(corr_matrix, cmap='coolwarm', annot=False)\n",
    "plt.title('Korrelációs Heatmap')\n",
    "plt.show()\n",
    "\n",
    "# 2. Violin plot \n",
    "plt.figure(figsize=(8, 6))\n",
    "sns.violinplot(x='class', y='deg-malig', data=df_cleaned)\n",
    "plt.title('Deg-Malig Eloszlás Class Csoportok Szerint')\n",
    "plt.show()\n",
    "\n",
    "# 3. Count plot\n",
    "plt.figure(figsize=(6, 4))\n",
    "sns.countplot(x='breast', data=df_cleaned)\n",
    "plt.title('Érintett Mell Gyakorisága')\n",
    "plt.show()"
   ]
  },
  {
   "cell_type": "code",
   "execution_count": null,
   "metadata": {},
   "outputs": [],
   "source": [
    "# Nem numerikus (kategórikus) oszlopok meghatározása\n",
    "non_numeric_columns = df_cleaned.select_dtypes(include=['object']).columns\n",
    "\n",
    "non_numeric_columns\n"
   ]
  },
  {
   "cell_type": "code",
   "execution_count": null,
   "metadata": {},
   "outputs": [],
   "source": [
    "# Előkészítés: Életkor konvertálása int-é az átlag alapján\n",
    "df_cleaned['age'] = df_cleaned['age'].apply(lambda x: int(np.mean([int(n) for n in x.split('-')])))\n",
    "# Tumor méret és inv-nodes konvertálása hasonlóan\n",
    "df_cleaned['tumor-size'] = df_cleaned['tumor-size'].apply(lambda x: int(np.mean([int(n) for n in x.split('-')])))\n",
    "df_cleaned['inv-falsedes'] = df_cleaned['inv-falsedes'].apply(lambda x: int(np.mean([int(n) for n in x.split('-')])))\n",
    "\n",
    "# Label Encoding a 'breast', 'class', és 'breast-quad' oszlopokon\n",
    "label_encoder = LabelEncoder()\n",
    "df_cleaned['breast'] = label_encoder.fit_transform(df_cleaned['breast'])\n",
    "df_cleaned['class'] = label_encoder.fit_transform(df_cleaned['class'])\n",
    "df_cleaned['breast-quad'] = label_encoder.fit_transform(df_cleaned['breast-quad'])\n",
    "\n",
    "# One-Hot Encoding a 'falsede-caps', 'deg-malig', és 'mefalsepause' oszlopokon\n",
    "one_hot_columns = ['falsede-caps', 'deg-malig', 'mefalsepause']\n",
    "df_cleaned = pd.get_dummies(df_cleaned, columns=one_hot_columns)\n",
    "\n",
    "# Skálázás az 'age' oszlopon\n",
    "scaler_age = MinMaxScaler(feature_range=(-1, 1))\n",
    "df_cleaned['age'] = scaler_age.fit_transform(df_cleaned[['age']])\n",
    "\n",
    "# Skálázás a 'tumor-size' és 'inv-falsedes' oszlopokon\n",
    "scaler_tumor_inv = MinMaxScaler(feature_range=(-1, 1))\n",
    "df_cleaned['tumor-size'] = scaler_tumor_inv.fit_transform(df_cleaned[['tumor-size']])\n",
    "df_cleaned['inv-falsedes'] = scaler_tumor_inv.fit_transform(df_cleaned[['inv-falsedes']])\n",
    "\n",
    "# A DataFrame első néhány sorának megjelenítése az előkészítés után\n",
    "df_cleaned.head()\n"
   ]
  },
  {
   "cell_type": "code",
   "execution_count": null,
   "metadata": {},
   "outputs": [],
   "source": [
    "# Új korrelációs mátrix készítése az előkészített adathalmazból\n",
    "corr_matrix_updated = df_cleaned.corr()\n",
    "\n",
    "# Korrelációs heatmap rajzolása az új adatokkal\n",
    "plt.figure(figsize=(12, 10))\n",
    "sns.heatmap(corr_matrix_updated, cmap='coolwarm', annot=False)\n",
    "plt.title('Korrelációs Heatmap az Előkészített Adatokkal')\n",
    "plt.show()\n"
   ]
  },
  {
   "cell_type": "code",
   "execution_count": null,
   "metadata": {},
   "outputs": [],
   "source": [
    "\n",
    "# A célváltozó (class) és a magyarázó változók (feature-ök) különválasztása\n",
    "X = df_cleaned.drop('class', axis=1)  # Minden oszlop kivéve a 'class'\n",
    "y = df_cleaned['class']  # Csak a 'class' oszlop\n",
    "\n",
    "# Az adatok szétválasztása tanító és teszt halmazra\n",
    "X_train, X_test, y_train, y_test = train_test_split(X, y, test_size=0.2, random_state=30)\n",
    "\n",
    "# A tanító és teszt halmazok méretének ellenőrzése\n",
    "(X_train.shape, X_test.shape, y_train.shape, y_test.shape)\n"
   ]
  },
  {
   "cell_type": "code",
   "execution_count": null,
   "metadata": {},
   "outputs": [],
   "source": [
    "\n",
    "\n",
    "# SVM modell létrehozása\n",
    "svm_model = SVC(kernel='linear', random_state=42)\n",
    "\n",
    "# Modell betanítása a tanító adathalmazon\n",
    "svm_model.fit(X_train, y_train)\n",
    "\n",
    "# A modell tesztelése a teszt adathalmazon\n",
    "y_pred = svm_model.predict(X_test)\n",
    "\n",
    "# Teljesítményértékelés\n",
    "accuracy = accuracy_score(y_test, y_pred)\n",
    "class_report = classification_report(y_test, y_pred)\n",
    "\n",
    "print(accuracy)\n",
    "print(class_report)\n"
   ]
  },
  {
   "cell_type": "code",
   "execution_count": null,
   "metadata": {},
   "outputs": [],
   "source": [
    "\n",
    "# Confusion matrix létrehozása\n",
    "conf_matrix = confusion_matrix(y_test, y_pred)\n",
    "\n",
    "# Confusion matrix megjelenítése heatmap segítségével\n",
    "plt.figure(figsize=(6, 6))\n",
    "sns.heatmap(conf_matrix, annot=True, fmt='d', cmap='Blues', square=True)\n",
    "plt.title('Confusion Matrix')\n",
    "plt.ylabel('Tényleges osztály')\n",
    "plt.xlabel('Jósolt osztály')\n",
    "plt.show()\n"
   ]
  }
 ],
 "metadata": {
  "kernelspec": {
   "display_name": "Python 3",
   "language": "python",
   "name": "python3"
  },
  "language_info": {
   "codemirror_mode": {
    "name": "ipython",
    "version": 3
   },
   "file_extension": ".py",
   "mimetype": "text/x-python",
   "name": "python",
   "nbconvert_exporter": "python",
   "pygments_lexer": "ipython3",
   "version": "3.11.9"
  }
 },
 "nbformat": 4,
 "nbformat_minor": 2
}
